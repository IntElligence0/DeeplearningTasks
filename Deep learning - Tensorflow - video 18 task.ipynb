{
 "cells": [
  {
   "cell_type": "code",
   "execution_count": 1,
   "id": "bfa5370c",
   "metadata": {},
   "outputs": [],
   "source": [
    "import pandas as pd\n",
    "from matplotlib import pyplot as plt\n",
    "import numpy as np\n",
    "%matplotlib inline"
   ]
  },
  {
   "cell_type": "code",
   "execution_count": 2,
   "id": "20a16061",
   "metadata": {},
   "outputs": [
    {
     "data": {
      "text/html": [
       "<div>\n",
       "<style scoped>\n",
       "    .dataframe tbody tr th:only-of-type {\n",
       "        vertical-align: middle;\n",
       "    }\n",
       "\n",
       "    .dataframe tbody tr th {\n",
       "        vertical-align: top;\n",
       "    }\n",
       "\n",
       "    .dataframe thead th {\n",
       "        text-align: right;\n",
       "    }\n",
       "</style>\n",
       "<table border=\"1\" class=\"dataframe\">\n",
       "  <thead>\n",
       "    <tr style=\"text-align: right;\">\n",
       "      <th></th>\n",
       "      <th>RowNumber</th>\n",
       "      <th>CustomerId</th>\n",
       "      <th>Surname</th>\n",
       "      <th>CreditScore</th>\n",
       "      <th>Geography</th>\n",
       "      <th>Gender</th>\n",
       "      <th>Age</th>\n",
       "      <th>Tenure</th>\n",
       "      <th>Balance</th>\n",
       "      <th>NumOfProducts</th>\n",
       "      <th>HasCrCard</th>\n",
       "      <th>IsActiveMember</th>\n",
       "      <th>EstimatedSalary</th>\n",
       "      <th>Exited</th>\n",
       "    </tr>\n",
       "  </thead>\n",
       "  <tbody>\n",
       "    <tr>\n",
       "      <th>7062</th>\n",
       "      <td>7063</td>\n",
       "      <td>15706762</td>\n",
       "      <td>Ignatyev</td>\n",
       "      <td>597</td>\n",
       "      <td>France</td>\n",
       "      <td>Female</td>\n",
       "      <td>41</td>\n",
       "      <td>4</td>\n",
       "      <td>145809.53</td>\n",
       "      <td>2</td>\n",
       "      <td>1</td>\n",
       "      <td>1</td>\n",
       "      <td>52319.26</td>\n",
       "      <td>0</td>\n",
       "    </tr>\n",
       "    <tr>\n",
       "      <th>6454</th>\n",
       "      <td>6455</td>\n",
       "      <td>15705899</td>\n",
       "      <td>Craig</td>\n",
       "      <td>597</td>\n",
       "      <td>Spain</td>\n",
       "      <td>Male</td>\n",
       "      <td>35</td>\n",
       "      <td>0</td>\n",
       "      <td>127510.99</td>\n",
       "      <td>1</td>\n",
       "      <td>1</td>\n",
       "      <td>1</td>\n",
       "      <td>155356.34</td>\n",
       "      <td>0</td>\n",
       "    </tr>\n",
       "    <tr>\n",
       "      <th>3247</th>\n",
       "      <td>3248</td>\n",
       "      <td>15721835</td>\n",
       "      <td>Owen</td>\n",
       "      <td>791</td>\n",
       "      <td>Spain</td>\n",
       "      <td>Male</td>\n",
       "      <td>25</td>\n",
       "      <td>7</td>\n",
       "      <td>0.00</td>\n",
       "      <td>1</td>\n",
       "      <td>1</td>\n",
       "      <td>0</td>\n",
       "      <td>89666.28</td>\n",
       "      <td>0</td>\n",
       "    </tr>\n",
       "    <tr>\n",
       "      <th>7191</th>\n",
       "      <td>7192</td>\n",
       "      <td>15567839</td>\n",
       "      <td>Gordon</td>\n",
       "      <td>501</td>\n",
       "      <td>France</td>\n",
       "      <td>Male</td>\n",
       "      <td>42</td>\n",
       "      <td>9</td>\n",
       "      <td>114631.23</td>\n",
       "      <td>1</td>\n",
       "      <td>0</td>\n",
       "      <td>1</td>\n",
       "      <td>91429.74</td>\n",
       "      <td>0</td>\n",
       "    </tr>\n",
       "    <tr>\n",
       "      <th>2521</th>\n",
       "      <td>2522</td>\n",
       "      <td>15739068</td>\n",
       "      <td>Nwoye</td>\n",
       "      <td>638</td>\n",
       "      <td>Germany</td>\n",
       "      <td>Male</td>\n",
       "      <td>25</td>\n",
       "      <td>4</td>\n",
       "      <td>148045.45</td>\n",
       "      <td>2</td>\n",
       "      <td>1</td>\n",
       "      <td>1</td>\n",
       "      <td>114722.42</td>\n",
       "      <td>0</td>\n",
       "    </tr>\n",
       "  </tbody>\n",
       "</table>\n",
       "</div>"
      ],
      "text/plain": [
       "      RowNumber  CustomerId   Surname  CreditScore Geography  Gender  Age  \\\n",
       "7062       7063    15706762  Ignatyev          597    France  Female   41   \n",
       "6454       6455    15705899     Craig          597     Spain    Male   35   \n",
       "3247       3248    15721835      Owen          791     Spain    Male   25   \n",
       "7191       7192    15567839    Gordon          501    France    Male   42   \n",
       "2521       2522    15739068     Nwoye          638   Germany    Male   25   \n",
       "\n",
       "      Tenure    Balance  NumOfProducts  HasCrCard  IsActiveMember  \\\n",
       "7062       4  145809.53              2          1               1   \n",
       "6454       0  127510.99              1          1               1   \n",
       "3247       7       0.00              1          1               0   \n",
       "7191       9  114631.23              1          0               1   \n",
       "2521       4  148045.45              2          1               1   \n",
       "\n",
       "      EstimatedSalary  Exited  \n",
       "7062         52319.26       0  \n",
       "6454        155356.34       0  \n",
       "3247         89666.28       0  \n",
       "7191         91429.74       0  \n",
       "2521        114722.42       0  "
      ]
     },
     "execution_count": 2,
     "metadata": {},
     "output_type": "execute_result"
    }
   ],
   "source": [
    "# Reading data\n",
    "\n",
    "data_frame = pd.read_csv(\"Churn_Modelling.csv\")\n",
    "data_frame.sample(5)"
   ]
  },
  {
   "cell_type": "code",
   "execution_count": 3,
   "id": "18a99157",
   "metadata": {},
   "outputs": [
    {
     "name": "stdout",
     "output_type": "stream",
     "text": [
      "<class 'pandas.core.frame.DataFrame'>\n",
      "RangeIndex: 10000 entries, 0 to 9999\n",
      "Data columns (total 14 columns):\n",
      " #   Column           Non-Null Count  Dtype  \n",
      "---  ------           --------------  -----  \n",
      " 0   RowNumber        10000 non-null  int64  \n",
      " 1   CustomerId       10000 non-null  int64  \n",
      " 2   Surname          10000 non-null  object \n",
      " 3   CreditScore      10000 non-null  int64  \n",
      " 4   Geography        10000 non-null  object \n",
      " 5   Gender           10000 non-null  object \n",
      " 6   Age              10000 non-null  int64  \n",
      " 7   Tenure           10000 non-null  int64  \n",
      " 8   Balance          10000 non-null  float64\n",
      " 9   NumOfProducts    10000 non-null  int64  \n",
      " 10  HasCrCard        10000 non-null  int64  \n",
      " 11  IsActiveMember   10000 non-null  int64  \n",
      " 12  EstimatedSalary  10000 non-null  float64\n",
      " 13  Exited           10000 non-null  int64  \n",
      "dtypes: float64(2), int64(9), object(3)\n",
      "memory usage: 1.1+ MB\n"
     ]
    }
   ],
   "source": [
    "# Showing data info to know columns data_types and printing null values number in each column\n",
    "\n",
    "data_frame.info()"
   ]
  },
  {
   "cell_type": "code",
   "execution_count": 4,
   "id": "9f154b26",
   "metadata": {},
   "outputs": [],
   "source": [
    "# By notic , 'CustomerId',\"Surname\" are not important , so we're gonna drop them\n",
    "\n",
    "data_frame.drop(['CustomerId',\"Surname\",\"RowNumber\"],axis='columns',inplace=True)"
   ]
  },
  {
   "cell_type": "code",
   "execution_count": 5,
   "id": "3579c21e",
   "metadata": {},
   "outputs": [
    {
     "data": {
      "text/plain": [
       "France     5014\n",
       "Germany    2509\n",
       "Spain      2477\n",
       "Name: Geography, dtype: int64"
      ]
     },
     "execution_count": 5,
     "metadata": {},
     "output_type": "execute_result"
    }
   ],
   "source": [
    "# Geography data type is object so we about to know its values to decide if it will be dropped or converted to numeric \n",
    "\n",
    "data_frame[\"Geography\"].value_counts()"
   ]
  },
  {
   "cell_type": "code",
   "execution_count": 6,
   "id": "0875d2f3",
   "metadata": {},
   "outputs": [],
   "source": [
    "# It has only 3 values , so we're gonna replace each value with a number\n",
    "\n",
    "data_frame[\"Geography\"] = data_frame[\"Geography\"].replace({\"France\":1,\"Germany\":2,\"Spain\":3})"
   ]
  },
  {
   "cell_type": "code",
   "execution_count": 7,
   "id": "68a017b5",
   "metadata": {},
   "outputs": [
    {
     "data": {
      "text/plain": [
       "0       1\n",
       "1       3\n",
       "2       1\n",
       "3       1\n",
       "4       3\n",
       "       ..\n",
       "9995    1\n",
       "9996    1\n",
       "9997    1\n",
       "9998    2\n",
       "9999    1\n",
       "Name: Geography, Length: 10000, dtype: int64"
      ]
     },
     "execution_count": 7,
     "metadata": {},
     "output_type": "execute_result"
    }
   ],
   "source": [
    "data_frame[\"Geography\"]"
   ]
  },
  {
   "cell_type": "code",
   "execution_count": 8,
   "id": "e16ac886",
   "metadata": {},
   "outputs": [
    {
     "data": {
      "text/plain": [
       "Male      5457\n",
       "Female    4543\n",
       "Name: Gender, dtype: int64"
      ]
     },
     "execution_count": 8,
     "metadata": {},
     "output_type": "execute_result"
    }
   ],
   "source": [
    "# Gender data type is object so we about to know its values to decide if it will be dropped or converted to numeric \n",
    "\n",
    "data_frame[\"Gender\"].value_counts()"
   ]
  },
  {
   "cell_type": "code",
   "execution_count": 9,
   "id": "9bd65d68",
   "metadata": {},
   "outputs": [],
   "source": [
    "# It has only 2 values , so we're gonna replace each value with a number\n",
    "\n",
    "data_frame[\"Gender\"] = data_frame[\"Gender\"].replace({\"Male\":1,\"Female\":2})"
   ]
  },
  {
   "cell_type": "code",
   "execution_count": 10,
   "id": "b307a946",
   "metadata": {},
   "outputs": [
    {
     "data": {
      "text/plain": [
       "0       2\n",
       "1       2\n",
       "2       2\n",
       "3       2\n",
       "4       2\n",
       "       ..\n",
       "9995    1\n",
       "9996    1\n",
       "9997    2\n",
       "9998    1\n",
       "9999    2\n",
       "Name: Gender, Length: 10000, dtype: int64"
      ]
     },
     "execution_count": 10,
     "metadata": {},
     "output_type": "execute_result"
    }
   ],
   "source": [
    "data_frame[\"Gender\"] "
   ]
  },
  {
   "cell_type": "code",
   "execution_count": 11,
   "id": "764856f1",
   "metadata": {},
   "outputs": [
    {
     "data": {
      "text/plain": [
       "CreditScore          int64\n",
       "Geography            int64\n",
       "Gender               int64\n",
       "Age                  int64\n",
       "Tenure               int64\n",
       "Balance            float64\n",
       "NumOfProducts        int64\n",
       "HasCrCard            int64\n",
       "IsActiveMember       int64\n",
       "EstimatedSalary    float64\n",
       "Exited               int64\n",
       "dtype: object"
      ]
     },
     "execution_count": 11,
     "metadata": {},
     "output_type": "execute_result"
    }
   ],
   "source": [
    "data_frame.dtypes"
   ]
  },
  {
   "cell_type": "code",
   "execution_count": 12,
   "id": "220f0f82",
   "metadata": {},
   "outputs": [],
   "source": [
    "data_frame2 = data_frame"
   ]
  },
  {
   "cell_type": "code",
   "execution_count": 13,
   "id": "7ec3354b",
   "metadata": {},
   "outputs": [
    {
     "data": {
      "text/html": [
       "<div>\n",
       "<style scoped>\n",
       "    .dataframe tbody tr th:only-of-type {\n",
       "        vertical-align: middle;\n",
       "    }\n",
       "\n",
       "    .dataframe tbody tr th {\n",
       "        vertical-align: top;\n",
       "    }\n",
       "\n",
       "    .dataframe thead th {\n",
       "        text-align: right;\n",
       "    }\n",
       "</style>\n",
       "<table border=\"1\" class=\"dataframe\">\n",
       "  <thead>\n",
       "    <tr style=\"text-align: right;\">\n",
       "      <th></th>\n",
       "      <th>CreditScore</th>\n",
       "      <th>Geography</th>\n",
       "      <th>Gender</th>\n",
       "      <th>Age</th>\n",
       "      <th>Tenure</th>\n",
       "      <th>Balance</th>\n",
       "      <th>NumOfProducts</th>\n",
       "      <th>HasCrCard</th>\n",
       "      <th>IsActiveMember</th>\n",
       "      <th>EstimatedSalary</th>\n",
       "      <th>Exited</th>\n",
       "    </tr>\n",
       "  </thead>\n",
       "  <tbody>\n",
       "    <tr>\n",
       "      <th>0</th>\n",
       "      <td>0.538</td>\n",
       "      <td>1</td>\n",
       "      <td>2</td>\n",
       "      <td>0.324324</td>\n",
       "      <td>0.2</td>\n",
       "      <td>0.000000</td>\n",
       "      <td>0.000000</td>\n",
       "      <td>1</td>\n",
       "      <td>1</td>\n",
       "      <td>0.506735</td>\n",
       "      <td>1</td>\n",
       "    </tr>\n",
       "    <tr>\n",
       "      <th>1</th>\n",
       "      <td>0.516</td>\n",
       "      <td>3</td>\n",
       "      <td>2</td>\n",
       "      <td>0.310811</td>\n",
       "      <td>0.1</td>\n",
       "      <td>0.334031</td>\n",
       "      <td>0.000000</td>\n",
       "      <td>0</td>\n",
       "      <td>1</td>\n",
       "      <td>0.562709</td>\n",
       "      <td>0</td>\n",
       "    </tr>\n",
       "    <tr>\n",
       "      <th>2</th>\n",
       "      <td>0.304</td>\n",
       "      <td>1</td>\n",
       "      <td>2</td>\n",
       "      <td>0.324324</td>\n",
       "      <td>0.8</td>\n",
       "      <td>0.636357</td>\n",
       "      <td>0.666667</td>\n",
       "      <td>1</td>\n",
       "      <td>0</td>\n",
       "      <td>0.569654</td>\n",
       "      <td>1</td>\n",
       "    </tr>\n",
       "    <tr>\n",
       "      <th>3</th>\n",
       "      <td>0.698</td>\n",
       "      <td>1</td>\n",
       "      <td>2</td>\n",
       "      <td>0.283784</td>\n",
       "      <td>0.1</td>\n",
       "      <td>0.000000</td>\n",
       "      <td>0.333333</td>\n",
       "      <td>0</td>\n",
       "      <td>0</td>\n",
       "      <td>0.469120</td>\n",
       "      <td>0</td>\n",
       "    </tr>\n",
       "    <tr>\n",
       "      <th>4</th>\n",
       "      <td>1.000</td>\n",
       "      <td>3</td>\n",
       "      <td>2</td>\n",
       "      <td>0.337838</td>\n",
       "      <td>0.2</td>\n",
       "      <td>0.500246</td>\n",
       "      <td>0.000000</td>\n",
       "      <td>1</td>\n",
       "      <td>1</td>\n",
       "      <td>0.395400</td>\n",
       "      <td>0</td>\n",
       "    </tr>\n",
       "  </tbody>\n",
       "</table>\n",
       "</div>"
      ],
      "text/plain": [
       "   CreditScore  Geography  Gender       Age  Tenure   Balance  NumOfProducts  \\\n",
       "0        0.538          1       2  0.324324     0.2  0.000000       0.000000   \n",
       "1        0.516          3       2  0.310811     0.1  0.334031       0.000000   \n",
       "2        0.304          1       2  0.324324     0.8  0.636357       0.666667   \n",
       "3        0.698          1       2  0.283784     0.1  0.000000       0.333333   \n",
       "4        1.000          3       2  0.337838     0.2  0.500246       0.000000   \n",
       "\n",
       "   HasCrCard  IsActiveMember  EstimatedSalary  Exited  \n",
       "0          1               1         0.506735       1  \n",
       "1          0               1         0.562709       0  \n",
       "2          1               0         0.569654       1  \n",
       "3          0               0         0.469120       0  \n",
       "4          1               1         0.395400       0  "
      ]
     },
     "execution_count": 13,
     "metadata": {},
     "output_type": "execute_result"
    }
   ],
   "source": [
    "# Scalling time , we should scall our data to get the best accuracy\n",
    "from sklearn.preprocessing import MinMaxScaler\n",
    "scaler = MinMaxScaler()\n",
    "\n",
    "# specifying what columns to be scalled\n",
    "cols_to_scale = ['CreditScore','Age','Balance',\"EstimatedSalary\",\"Tenure\",\"NumOfProducts\"]\n",
    "\n",
    "# Now we're gonna replace all the columns with the scalled ones\n",
    "data_frame2[cols_to_scale] = scaler.fit_transform(data_frame2[cols_to_scale])\n",
    "\n",
    "data_frame2.head()"
   ]
  },
  {
   "cell_type": "code",
   "execution_count": 14,
   "id": "2c685dd2",
   "metadata": {},
   "outputs": [],
   "source": [
    "# splitting data into freatures and targets\n",
    "\n",
    "X = data_frame2.drop('Exited',axis='columns')\n",
    "y = data_frame2['Exited']"
   ]
  },
  {
   "cell_type": "code",
   "execution_count": 15,
   "id": "8d15cacd",
   "metadata": {},
   "outputs": [
    {
     "data": {
      "text/html": [
       "<div>\n",
       "<style scoped>\n",
       "    .dataframe tbody tr th:only-of-type {\n",
       "        vertical-align: middle;\n",
       "    }\n",
       "\n",
       "    .dataframe tbody tr th {\n",
       "        vertical-align: top;\n",
       "    }\n",
       "\n",
       "    .dataframe thead th {\n",
       "        text-align: right;\n",
       "    }\n",
       "</style>\n",
       "<table border=\"1\" class=\"dataframe\">\n",
       "  <thead>\n",
       "    <tr style=\"text-align: right;\">\n",
       "      <th></th>\n",
       "      <th>CreditScore</th>\n",
       "      <th>Geography</th>\n",
       "      <th>Gender</th>\n",
       "      <th>Age</th>\n",
       "      <th>Tenure</th>\n",
       "      <th>Balance</th>\n",
       "      <th>NumOfProducts</th>\n",
       "      <th>HasCrCard</th>\n",
       "      <th>IsActiveMember</th>\n",
       "      <th>EstimatedSalary</th>\n",
       "    </tr>\n",
       "  </thead>\n",
       "  <tbody>\n",
       "    <tr>\n",
       "      <th>7751</th>\n",
       "      <td>0.800</td>\n",
       "      <td>3</td>\n",
       "      <td>2</td>\n",
       "      <td>0.283784</td>\n",
       "      <td>0.6</td>\n",
       "      <td>0.000000</td>\n",
       "      <td>0.333333</td>\n",
       "      <td>0</td>\n",
       "      <td>0</td>\n",
       "      <td>0.096273</td>\n",
       "    </tr>\n",
       "    <tr>\n",
       "      <th>4154</th>\n",
       "      <td>0.752</td>\n",
       "      <td>1</td>\n",
       "      <td>1</td>\n",
       "      <td>0.216216</td>\n",
       "      <td>0.3</td>\n",
       "      <td>0.000000</td>\n",
       "      <td>0.333333</td>\n",
       "      <td>1</td>\n",
       "      <td>0</td>\n",
       "      <td>0.981478</td>\n",
       "    </tr>\n",
       "    <tr>\n",
       "      <th>3881</th>\n",
       "      <td>0.476</td>\n",
       "      <td>1</td>\n",
       "      <td>2</td>\n",
       "      <td>0.621622</td>\n",
       "      <td>0.3</td>\n",
       "      <td>0.000000</td>\n",
       "      <td>0.000000</td>\n",
       "      <td>1</td>\n",
       "      <td>1</td>\n",
       "      <td>0.948551</td>\n",
       "    </tr>\n",
       "    <tr>\n",
       "      <th>9238</th>\n",
       "      <td>0.846</td>\n",
       "      <td>1</td>\n",
       "      <td>2</td>\n",
       "      <td>0.432432</td>\n",
       "      <td>0.4</td>\n",
       "      <td>0.000000</td>\n",
       "      <td>0.333333</td>\n",
       "      <td>1</td>\n",
       "      <td>0</td>\n",
       "      <td>0.646869</td>\n",
       "    </tr>\n",
       "    <tr>\n",
       "      <th>5210</th>\n",
       "      <td>0.402</td>\n",
       "      <td>1</td>\n",
       "      <td>1</td>\n",
       "      <td>0.229730</td>\n",
       "      <td>0.7</td>\n",
       "      <td>0.517012</td>\n",
       "      <td>0.333333</td>\n",
       "      <td>0</td>\n",
       "      <td>0</td>\n",
       "      <td>0.434670</td>\n",
       "    </tr>\n",
       "    <tr>\n",
       "      <th>...</th>\n",
       "      <td>...</td>\n",
       "      <td>...</td>\n",
       "      <td>...</td>\n",
       "      <td>...</td>\n",
       "      <td>...</td>\n",
       "      <td>...</td>\n",
       "      <td>...</td>\n",
       "      <td>...</td>\n",
       "      <td>...</td>\n",
       "      <td>...</td>\n",
       "    </tr>\n",
       "    <tr>\n",
       "      <th>3046</th>\n",
       "      <td>0.616</td>\n",
       "      <td>2</td>\n",
       "      <td>2</td>\n",
       "      <td>0.175676</td>\n",
       "      <td>0.3</td>\n",
       "      <td>0.530108</td>\n",
       "      <td>0.000000</td>\n",
       "      <td>0</td>\n",
       "      <td>1</td>\n",
       "      <td>0.731708</td>\n",
       "    </tr>\n",
       "    <tr>\n",
       "      <th>9917</th>\n",
       "      <td>0.570</td>\n",
       "      <td>2</td>\n",
       "      <td>1</td>\n",
       "      <td>0.472973</td>\n",
       "      <td>0.8</td>\n",
       "      <td>0.466347</td>\n",
       "      <td>0.000000</td>\n",
       "      <td>0</td>\n",
       "      <td>1</td>\n",
       "      <td>0.618234</td>\n",
       "    </tr>\n",
       "    <tr>\n",
       "      <th>4079</th>\n",
       "      <td>0.466</td>\n",
       "      <td>1</td>\n",
       "      <td>2</td>\n",
       "      <td>0.175676</td>\n",
       "      <td>0.4</td>\n",
       "      <td>0.633639</td>\n",
       "      <td>0.000000</td>\n",
       "      <td>1</td>\n",
       "      <td>0</td>\n",
       "      <td>0.062643</td>\n",
       "    </tr>\n",
       "    <tr>\n",
       "      <th>2254</th>\n",
       "      <td>0.658</td>\n",
       "      <td>1</td>\n",
       "      <td>1</td>\n",
       "      <td>0.243243</td>\n",
       "      <td>0.6</td>\n",
       "      <td>0.588819</td>\n",
       "      <td>0.000000</td>\n",
       "      <td>0</td>\n",
       "      <td>1</td>\n",
       "      <td>0.862531</td>\n",
       "    </tr>\n",
       "    <tr>\n",
       "      <th>2915</th>\n",
       "      <td>0.278</td>\n",
       "      <td>2</td>\n",
       "      <td>2</td>\n",
       "      <td>0.459459</td>\n",
       "      <td>0.1</td>\n",
       "      <td>0.523884</td>\n",
       "      <td>0.000000</td>\n",
       "      <td>1</td>\n",
       "      <td>0</td>\n",
       "      <td>0.186160</td>\n",
       "    </tr>\n",
       "  </tbody>\n",
       "</table>\n",
       "<p>8000 rows × 10 columns</p>\n",
       "</div>"
      ],
      "text/plain": [
       "      CreditScore  Geography  Gender       Age  Tenure   Balance  \\\n",
       "7751        0.800          3       2  0.283784     0.6  0.000000   \n",
       "4154        0.752          1       1  0.216216     0.3  0.000000   \n",
       "3881        0.476          1       2  0.621622     0.3  0.000000   \n",
       "9238        0.846          1       2  0.432432     0.4  0.000000   \n",
       "5210        0.402          1       1  0.229730     0.7  0.517012   \n",
       "...           ...        ...     ...       ...     ...       ...   \n",
       "3046        0.616          2       2  0.175676     0.3  0.530108   \n",
       "9917        0.570          2       1  0.472973     0.8  0.466347   \n",
       "4079        0.466          1       2  0.175676     0.4  0.633639   \n",
       "2254        0.658          1       1  0.243243     0.6  0.588819   \n",
       "2915        0.278          2       2  0.459459     0.1  0.523884   \n",
       "\n",
       "      NumOfProducts  HasCrCard  IsActiveMember  EstimatedSalary  \n",
       "7751       0.333333          0               0         0.096273  \n",
       "4154       0.333333          1               0         0.981478  \n",
       "3881       0.000000          1               1         0.948551  \n",
       "9238       0.333333          1               0         0.646869  \n",
       "5210       0.333333          0               0         0.434670  \n",
       "...             ...        ...             ...              ...  \n",
       "3046       0.000000          0               1         0.731708  \n",
       "9917       0.000000          0               1         0.618234  \n",
       "4079       0.000000          1               0         0.062643  \n",
       "2254       0.000000          0               1         0.862531  \n",
       "2915       0.000000          1               0         0.186160  \n",
       "\n",
       "[8000 rows x 10 columns]"
      ]
     },
     "execution_count": 15,
     "metadata": {},
     "output_type": "execute_result"
    }
   ],
   "source": [
    "# No We're gonna split data into train and test using the (freatures and targets) columns splitted in the last cell\n",
    "from sklearn.model_selection import train_test_split\n",
    "\n",
    "X_train, X_test, y_train, y_test = train_test_split(X,y,test_size=0.2,random_state=5)\n",
    "X_train"
   ]
  },
  {
   "cell_type": "code",
   "execution_count": 16,
   "id": "617c6bdb",
   "metadata": {},
   "outputs": [
    {
     "data": {
      "text/plain": [
       "(8000, 10)"
      ]
     },
     "execution_count": 16,
     "metadata": {},
     "output_type": "execute_result"
    }
   ],
   "source": [
    "X_train.shape"
   ]
  },
  {
   "cell_type": "code",
   "execution_count": 17,
   "id": "960cc3de",
   "metadata": {
    "scrolled": false
   },
   "outputs": [
    {
     "name": "stdout",
     "output_type": "stream",
     "text": [
      "Epoch 1/80\n",
      "250/250 [==============================] - 1s 1ms/step - loss: 0.5652 - accuracy: 0.7171\n",
      "Epoch 2/80\n",
      "250/250 [==============================] - 0s 1ms/step - loss: 0.4906 - accuracy: 0.7960\n",
      "Epoch 3/80\n",
      "250/250 [==============================] - 0s 1ms/step - loss: 0.4786 - accuracy: 0.7961\n",
      "Epoch 4/80\n",
      "250/250 [==============================] - 0s 1ms/step - loss: 0.4681 - accuracy: 0.7976\n",
      "Epoch 5/80\n",
      "250/250 [==============================] - 0s 1ms/step - loss: 0.4605 - accuracy: 0.8012\n",
      "Epoch 6/80\n",
      "250/250 [==============================] - 0s 1ms/step - loss: 0.4542 - accuracy: 0.8052\n",
      "Epoch 7/80\n",
      "250/250 [==============================] - 0s 1ms/step - loss: 0.4488 - accuracy: 0.8084\n",
      "Epoch 8/80\n",
      "250/250 [==============================] - 0s 1ms/step - loss: 0.4443 - accuracy: 0.8131\n",
      "Epoch 9/80\n",
      "250/250 [==============================] - 0s 1ms/step - loss: 0.4402 - accuracy: 0.8148\n",
      "Epoch 10/80\n",
      "250/250 [==============================] - 0s 1ms/step - loss: 0.4378 - accuracy: 0.8149\n",
      "Epoch 11/80\n",
      "250/250 [==============================] - 0s 1ms/step - loss: 0.4342 - accuracy: 0.8167\n",
      "Epoch 12/80\n",
      "250/250 [==============================] - 0s 1ms/step - loss: 0.4316 - accuracy: 0.8176\n",
      "Epoch 13/80\n",
      "250/250 [==============================] - 0s 1ms/step - loss: 0.4286 - accuracy: 0.8199\n",
      "Epoch 14/80\n",
      "250/250 [==============================] - 0s 985us/step - loss: 0.4244 - accuracy: 0.8235\n",
      "Epoch 15/80\n",
      "250/250 [==============================] - 0s 1ms/step - loss: 0.4212 - accuracy: 0.8250\n",
      "Epoch 16/80\n",
      "250/250 [==============================] - 0s 1ms/step - loss: 0.4176 - accuracy: 0.8285\n",
      "Epoch 17/80\n",
      "250/250 [==============================] - 0s 997us/step - loss: 0.4126 - accuracy: 0.8288\n",
      "Epoch 18/80\n",
      "250/250 [==============================] - 0s 997us/step - loss: 0.4092 - accuracy: 0.8273\n",
      "Epoch 19/80\n",
      "250/250 [==============================] - 0s 993us/step - loss: 0.4049 - accuracy: 0.8299\n",
      "Epoch 20/80\n",
      "250/250 [==============================] - 0s 992us/step - loss: 0.4011 - accuracy: 0.8304\n",
      "Epoch 21/80\n",
      "250/250 [==============================] - 0s 1ms/step - loss: 0.3982 - accuracy: 0.8329\n",
      "Epoch 22/80\n",
      "250/250 [==============================] - 0s 1ms/step - loss: 0.3947 - accuracy: 0.8351\n",
      "Epoch 23/80\n",
      "250/250 [==============================] - 0s 1ms/step - loss: 0.3915 - accuracy: 0.8342\n",
      "Epoch 24/80\n",
      "250/250 [==============================] - 0s 1ms/step - loss: 0.3894 - accuracy: 0.8360\n",
      "Epoch 25/80\n",
      "250/250 [==============================] - 0s 1ms/step - loss: 0.3860 - accuracy: 0.8397\n",
      "Epoch 26/80\n",
      "250/250 [==============================] - 0s 1ms/step - loss: 0.3837 - accuracy: 0.8399\n",
      "Epoch 27/80\n",
      "250/250 [==============================] - 0s 977us/step - loss: 0.3810 - accuracy: 0.8407\n",
      "Epoch 28/80\n",
      "250/250 [==============================] - 0s 1ms/step - loss: 0.3788 - accuracy: 0.8441\n",
      "Epoch 29/80\n",
      "250/250 [==============================] - 0s 1ms/step - loss: 0.3764 - accuracy: 0.8419\n",
      "Epoch 30/80\n",
      "250/250 [==============================] - 0s 1000us/step - loss: 0.3755 - accuracy: 0.8471\n",
      "Epoch 31/80\n",
      "250/250 [==============================] - 0s 997us/step - loss: 0.3728 - accuracy: 0.8470\n",
      "Epoch 32/80\n",
      "250/250 [==============================] - 0s 1ms/step - loss: 0.3710 - accuracy: 0.8466\n",
      "Epoch 33/80\n",
      "250/250 [==============================] - 0s 1ms/step - loss: 0.3697 - accuracy: 0.8474\n",
      "Epoch 34/80\n",
      "250/250 [==============================] - 0s 1ms/step - loss: 0.3683 - accuracy: 0.8493\n",
      "Epoch 35/80\n",
      "250/250 [==============================] - 0s 1000us/step - loss: 0.3666 - accuracy: 0.8491\n",
      "Epoch 36/80\n",
      "250/250 [==============================] - 0s 1ms/step - loss: 0.3647 - accuracy: 0.8506\n",
      "Epoch 37/80\n",
      "250/250 [==============================] - 0s 1ms/step - loss: 0.3639 - accuracy: 0.8491\n",
      "Epoch 38/80\n",
      "250/250 [==============================] - 0s 993us/step - loss: 0.3623 - accuracy: 0.8520\n",
      "Epoch 39/80\n",
      "250/250 [==============================] - 0s 985us/step - loss: 0.3618 - accuracy: 0.8509\n",
      "Epoch 40/80\n",
      "250/250 [==============================] - 0s 1ms/step - loss: 0.3604 - accuracy: 0.8515\n",
      "Epoch 41/80\n",
      "250/250 [==============================] - 0s 1ms/step - loss: 0.3599 - accuracy: 0.8512\n",
      "Epoch 42/80\n",
      "250/250 [==============================] - 0s 996us/step - loss: 0.3591 - accuracy: 0.8529\n",
      "Epoch 43/80\n",
      "250/250 [==============================] - 0s 997us/step - loss: 0.3584 - accuracy: 0.8537\n",
      "Epoch 44/80\n",
      "250/250 [==============================] - 0s 993us/step - loss: 0.3576 - accuracy: 0.8529\n",
      "Epoch 45/80\n",
      "250/250 [==============================] - 0s 1ms/step - loss: 0.3574 - accuracy: 0.8528\n",
      "Epoch 46/80\n",
      "250/250 [==============================] - 0s 1ms/step - loss: 0.3561 - accuracy: 0.8522\n",
      "Epoch 47/80\n",
      "250/250 [==============================] - 0s 1ms/step - loss: 0.3547 - accuracy: 0.8524\n",
      "Epoch 48/80\n",
      "250/250 [==============================] - 0s 1ms/step - loss: 0.3546 - accuracy: 0.8556\n",
      "Epoch 49/80\n",
      "250/250 [==============================] - 0s 1ms/step - loss: 0.3540 - accuracy: 0.8555\n",
      "Epoch 50/80\n",
      "250/250 [==============================] - 0s 1ms/step - loss: 0.3536 - accuracy: 0.8550\n",
      "Epoch 51/80\n",
      "250/250 [==============================] - 0s 1ms/step - loss: 0.3529 - accuracy: 0.8559\n",
      "Epoch 52/80\n",
      "250/250 [==============================] - 0s 1ms/step - loss: 0.3536 - accuracy: 0.8550\n",
      "Epoch 53/80\n",
      "250/250 [==============================] - 0s 1ms/step - loss: 0.3526 - accuracy: 0.8555\n",
      "Epoch 54/80\n",
      "250/250 [==============================] - 0s 997us/step - loss: 0.3515 - accuracy: 0.8564\n",
      "Epoch 55/80\n",
      "250/250 [==============================] - 0s 1ms/step - loss: 0.3509 - accuracy: 0.8546\n",
      "Epoch 56/80\n",
      "250/250 [==============================] - 0s 1ms/step - loss: 0.3508 - accuracy: 0.8554\n",
      "Epoch 57/80\n",
      "250/250 [==============================] - 0s 1ms/step - loss: 0.3503 - accuracy: 0.8576\n",
      "Epoch 58/80\n",
      "250/250 [==============================] - 0s 1ms/step - loss: 0.3503 - accuracy: 0.8574\n",
      "Epoch 59/80\n",
      "250/250 [==============================] - 0s 993us/step - loss: 0.3490 - accuracy: 0.8580\n",
      "Epoch 60/80\n",
      "250/250 [==============================] - 0s 1ms/step - loss: 0.3495 - accuracy: 0.8554\n",
      "Epoch 61/80\n",
      "250/250 [==============================] - 0s 996us/step - loss: 0.3485 - accuracy: 0.8584\n",
      "Epoch 62/80\n",
      "250/250 [==============================] - 0s 997us/step - loss: 0.3493 - accuracy: 0.8574\n",
      "Epoch 63/80\n",
      "250/250 [==============================] - 0s 1ms/step - loss: 0.3484 - accuracy: 0.8574\n",
      "Epoch 64/80\n",
      "250/250 [==============================] - 0s 1ms/step - loss: 0.3488 - accuracy: 0.8580\n",
      "Epoch 65/80\n",
      "250/250 [==============================] - 0s 1000us/step - loss: 0.3486 - accuracy: 0.8569\n",
      "Epoch 66/80\n",
      "250/250 [==============================] - 0s 993us/step - loss: 0.3478 - accuracy: 0.8580\n",
      "Epoch 67/80\n",
      "250/250 [==============================] - 0s 993us/step - loss: 0.3469 - accuracy: 0.8590\n",
      "Epoch 68/80\n",
      "250/250 [==============================] - 0s 981us/step - loss: 0.3477 - accuracy: 0.8594\n",
      "Epoch 69/80\n",
      "250/250 [==============================] - 0s 1ms/step - loss: 0.3464 - accuracy: 0.8569\n",
      "Epoch 70/80\n",
      "250/250 [==============================] - 0s 1ms/step - loss: 0.3467 - accuracy: 0.8583\n",
      "Epoch 71/80\n",
      "250/250 [==============================] - 0s 1ms/step - loss: 0.3459 - accuracy: 0.8594\n",
      "Epoch 72/80\n",
      "250/250 [==============================] - 0s 1ms/step - loss: 0.3457 - accuracy: 0.8601\n",
      "Epoch 73/80\n",
      "250/250 [==============================] - 0s 1ms/step - loss: 0.3454 - accuracy: 0.8596\n",
      "Epoch 74/80\n",
      "250/250 [==============================] - 0s 1ms/step - loss: 0.3449 - accuracy: 0.8593\n",
      "Epoch 75/80\n",
      "250/250 [==============================] - 0s 1ms/step - loss: 0.3462 - accuracy: 0.8590\n",
      "Epoch 76/80\n",
      "250/250 [==============================] - 0s 1ms/step - loss: 0.3450 - accuracy: 0.8591\n",
      "Epoch 77/80\n",
      "250/250 [==============================] - 0s 1ms/step - loss: 0.3446 - accuracy: 0.8581\n",
      "Epoch 78/80\n",
      "250/250 [==============================] - 0s 1ms/step - loss: 0.3453 - accuracy: 0.8601\n",
      "Epoch 79/80\n",
      "250/250 [==============================] - 0s 1ms/step - loss: 0.3451 - accuracy: 0.8589\n",
      "Epoch 80/80\n",
      "250/250 [==============================] - 0s 989us/step - loss: 0.3442 - accuracy: 0.8600\n"
     ]
    },
    {
     "data": {
      "text/plain": [
       "<keras.callbacks.History at 0x26cc7d199d0>"
      ]
     },
     "execution_count": 17,
     "metadata": {},
     "output_type": "execute_result"
    }
   ],
   "source": [
    "import tensorflow as tf\n",
    "from tensorflow import keras\n",
    "\n",
    "model = keras.Sequential([\n",
    "    keras.layers.Dense(20, input_shape=(X_train.shape[1],), activation='relu'),\n",
    "    keras.layers.Dense(1, activation='sigmoid'),\n",
    "    \n",
    "])\n",
    "\n",
    "model.compile(optimizer='adam',\n",
    "              loss='binary_crossentropy',\n",
    "              metrics=['accuracy'])\n",
    "\n",
    "model.fit(X_train, y_train, epochs=80)"
   ]
  },
  {
   "cell_type": "code",
   "execution_count": 18,
   "id": "0391c5a3",
   "metadata": {},
   "outputs": [
    {
     "name": "stdout",
     "output_type": "stream",
     "text": [
      "63/63 [==============================] - 0s 997us/step - loss: 0.3649 - accuracy: 0.8515\n"
     ]
    },
    {
     "data": {
      "text/plain": [
       "[0.3649047315120697, 0.8514999747276306]"
      ]
     },
     "execution_count": 18,
     "metadata": {},
     "output_type": "execute_result"
    }
   ],
   "source": [
    "model.evaluate(X_test, y_test)"
   ]
  },
  {
   "cell_type": "code",
   "execution_count": 19,
   "id": "899716c4",
   "metadata": {},
   "outputs": [
    {
     "name": "stdout",
     "output_type": "stream",
     "text": [
      "63/63 [==============================] - 0s 815us/step\n"
     ]
    }
   ],
   "source": [
    "yp = model.predict(X_test)"
   ]
  },
  {
   "cell_type": "code",
   "execution_count": 20,
   "id": "7c3e5918",
   "metadata": {},
   "outputs": [
    {
     "data": {
      "text/plain": [
       "array([[0.03848443],\n",
       "       [0.0928263 ],\n",
       "       [0.10546787],\n",
       "       [0.11689562],\n",
       "       [0.10795468]], dtype=float32)"
      ]
     },
     "execution_count": 20,
     "metadata": {},
     "output_type": "execute_result"
    }
   ],
   "source": [
    "yp[:5]"
   ]
  },
  {
   "cell_type": "code",
   "execution_count": 21,
   "id": "87256d23",
   "metadata": {},
   "outputs": [],
   "source": [
    "y_pred = []\n",
    "for element in yp:\n",
    "    if element > 0.5:\n",
    "        y_pred.append(1)\n",
    "    else:\n",
    "        y_pred.append(0)"
   ]
  },
  {
   "cell_type": "code",
   "execution_count": 22,
   "id": "049d5234",
   "metadata": {},
   "outputs": [
    {
     "name": "stdout",
     "output_type": "stream",
     "text": [
      "              precision    recall  f1-score   support\n",
      "\n",
      "           0       0.88      0.95      0.91      1595\n",
      "           1       0.70      0.47      0.56       405\n",
      "\n",
      "    accuracy                           0.85      2000\n",
      "   macro avg       0.79      0.71      0.74      2000\n",
      "weighted avg       0.84      0.85      0.84      2000\n",
      "\n"
     ]
    }
   ],
   "source": [
    "from sklearn.metrics import confusion_matrix , classification_report\n",
    "\n",
    "print(classification_report(y_test,y_pred))"
   ]
  },
  {
   "cell_type": "code",
   "execution_count": 23,
   "id": "9801aea2",
   "metadata": {},
   "outputs": [
    {
     "data": {
      "text/plain": [
       "Text(51.0, 0.5, 'Truth')"
      ]
     },
     "execution_count": 23,
     "metadata": {},
     "output_type": "execute_result"
    },
    {
     "data": {
      "image/png": "[encoded data removed]",
      "text/plain": [
       "<Figure size 576x432 with 2 Axes>"
      ]
     },
     "metadata": {
      "needs_background": "light"
     },
     "output_type": "display_data"
    }
   ],
   "source": [
    "import seaborn as sn\n",
    "cm = tf.math.confusion_matrix(labels=y_test,predictions=y_pred)\n",
    "\n",
    "plt.figure(figsize = (8,6))\n",
    "sn.heatmap(cm, annot=True, fmt='d')\n",
    "plt.xlabel('Predicted')\n",
    "plt.ylabel('Truth')"
   ]
  },
  {
   "cell_type": "code",
   "execution_count": 24,
   "id": "62073cf5",
   "metadata": {},
   "outputs": [
    {
     "name": "stdout",
     "output_type": "stream",
     "text": [
      "______  ___      \n",
      "___   |/  /_____ \n",
      "__  /|_/ /_  __ \\\n",
      "_  /  / / / /_/ /\n",
      "/_/  /_/  \\____/ \n",
      "                 \n",
      "\n"
     ]
    }
   ],
   "source": []
  }
 ],
 "metadata": {
  "kernelspec": {
   "display_name": "Python 3 (ipykernel)",
   "language": "python",
   "name": "python3"
  },
  "language_info": {
   "codemirror_mode": {
    "name": "ipython",
    "version": 3
   },
   "file_extension": ".py",
   "mimetype": "text/x-python",
   "name": "python",
   "nbconvert_exporter": "python",
   "pygments_lexer": "ipython3",
   "version": "3.9.7"
  }
 },
 "nbformat": 4,
 "nbformat_minor": 5
}
