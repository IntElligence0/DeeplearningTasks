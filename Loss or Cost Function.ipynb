{
 "cells": [
  {
   "cell_type": "code",
   "execution_count": 1,
   "id": "81ccfba3",
   "metadata": {},
   "outputs": [],
   "source": [
    "import numpy as np\n",
    "y_predicted=np.array([1,1,0,0,1])\n",
    "y_true=np.array([0.30,0.7,1,0,0.5])"
   ]
  },
  {
   "cell_type": "markdown",
   "id": "921d4ead",
   "metadata": {},
   "source": [
    "# MSE without using Numpy"
   ]
  },
  {
   "cell_type": "code",
   "execution_count": 4,
   "id": "308b3513",
   "metadata": {},
   "outputs": [
    {
     "name": "stdout",
     "output_type": "stream",
     "text": [
      "total errer 1.83\n"
     ]
    },
    {
     "data": {
      "text/plain": [
       "0.366"
      ]
     },
     "execution_count": 4,
     "metadata": {},
     "output_type": "execute_result"
    }
   ],
   "source": [
    "def MSE(y_true,y_predicted):\n",
    "    total_error=0\n",
    "    for true,predicted in zip(y_true,y_predicted):\n",
    "        total_error+=(abs(true-predicted))**2\n",
    "    print(\"total errer\",total_error)\n",
    "    MSE=total_error/len(y_true)\n",
    "    return MSE\n",
    "MSE(y_true,y_predicted)"
   ]
  },
  {
   "cell_type": "markdown",
   "id": "09e062e6",
   "metadata": {},
   "source": [
    "# MSE Using Numpy"
   ]
  },
  {
   "cell_type": "code",
   "execution_count": 8,
   "id": "bc78fc34",
   "metadata": {},
   "outputs": [
    {
     "data": {
      "text/plain": [
       "0.366"
      ]
     },
     "execution_count": 8,
     "metadata": {},
     "output_type": "execute_result"
    }
   ],
   "source": [
    "np.mean((np.abs(y_predicted-y_true))**2)"
   ]
  },
  {
   "cell_type": "code",
   "execution_count": null,
   "id": "ffeaa207",
   "metadata": {},
   "outputs": [],
   "source": []
  }
 ],
 "metadata": {
  "kernelspec": {
   "display_name": "Python 3 (ipykernel)",
   "language": "python",
   "name": "python3"
  },
  "language_info": {
   "codemirror_mode": {
    "name": "ipython",
    "version": 3
   },
   "file_extension": ".py",
   "mimetype": "text/x-python",
   "name": "python",
   "nbconvert_exporter": "python",
   "pygments_lexer": "ipython3",
   "version": "3.9.12"
  }
 },
 "nbformat": 4,
 "nbformat_minor": 5
}
